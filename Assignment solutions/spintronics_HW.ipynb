{
 "cells": [
  {
   "cell_type": "code",
   "execution_count": null,
   "metadata": {},
   "outputs": [],
   "source": [
    "import numpy as np\n",
    "from matplotlib import pyplot as plt\n",
    "from mpl_toolkits.mplot3d import Axes3D\n",
    "from scipy.constants import physical_constants\n",
    "m = 511\n",
    "mu_B = physical_constants['Bohr magneton'][0]\n",
    "# Define the parameters\n",
    "m_star = 0.05 # effective mass in units of m0\n",
    "g = 4 # g-factor\n",
    "B = 1 # magnetic field in Tesla\n",
    "eta = 10e-11 - m # momentum scattering rate in eV-m\n",
    "nu = 0 # spin-flip scattering rate in eV-m\n",
    "hbar = 1.054e-34\n",
    "# Define the range of wavevectors\n",
    "kx = np.linspace(-1e17, 1e17, 50) # 501 points from -1e7 to 1e7 cm^-1\n",
    "ky = np.linspace(-1e17, 1e17, 50) # 501 points from -1e7 to 1e7 cm^-1\n",
    "kx, ky = np.meshgrid(kx, ky)\n",
    "\n",
    "# Calculate the energy levels for spin-up and spin-down states\n",
    "E_up = (hbar**2 * (kx**2 + ky**2)) / (2 * m_star) + g * hbar * B * np.sqrt(kx**2 + ky**2) \n",
    "E_down = (hbar**2 * (kx**2 + ky**2)) / (2 * m_star) - g * hbar * B * np.sqrt(kx**2 + ky**2) \n",
    "print(E_up)\n",
    "print(E_down)\n",
    "# Plot the energy dispersion relation\n",
    "fig = plt.figure(figsize=(8, 8))\n",
    "ax = fig.add_subplot(111, projection='3d')\n",
    "ax.plot_surface(kx, ky, E_up, cmap='cool', alpha=0.7)\n",
    "ax.plot_surface(kx, ky, E_down, cmap='autumn', alpha=0.7)\n",
    "ax.set_xlabel('kx (cm$^{-1}$)')\n",
    "ax.set_ylabel('ky (cm$^{-1}$)')\n",
    "ax.set_zlabel('Energy (eV)')\n",
    "plt.show()"
   ]
  }
 ],
 "metadata": {
  "language_info": {
   "name": "python"
  },
  "orig_nbformat": 4
 },
 "nbformat": 4,
 "nbformat_minor": 2
}
